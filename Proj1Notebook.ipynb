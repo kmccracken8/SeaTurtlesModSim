{
 "cells": [
  {
   "cell_type": "markdown",
   "metadata": {},
   "source": [
    "# Modeling and Simulation in Python\n",
    "\n",
    "Project 1\n",
    "\n",
    "Leatherback Sea Turtles Nesting Mother Population\n",
    "\n",
    "Kyle McCracken and David Tarazi"
   ]
  },
  {
   "cell_type": "code",
   "execution_count": 2,
   "metadata": {},
   "outputs": [
    {
     "name": "stdout",
     "output_type": "stream",
     "text": [
      "Object `islands` not found.\n"
     ]
    }
   ],
   "source": [
    "Question to answer: What is and what will be the leatherback sea turtle population of nesting females in the US virgin islands?"
   ]
  },
  {
   "cell_type": "code",
   "execution_count": null,
   "metadata": {},
   "outputs": [],
   "source": [
    "Question to answer: What is and what will be the leatherback sea turtle population of nesting females in the US virgin islands"
   ]
  },
  {
   "cell_type": "markdown",
   "metadata": {},
   "source": [
    "Model:\n",
    "Parameters/Data\n",
    "    US Virgin Island Data:\n",
    "        Nesting numbers, females recorded on the beach\n",
    "    Data we need to test for:\n",
    "        population proxy, birth/survival rate for females, natural death rate\n",
    "Functions Needed with parameters needed from system/state\n",
    "    births(nestpop, pop proxy)\n",
    "    step/newnestpop(last years prediction/pop proxy, births-deaths)\n",
    "        trying to align this prediciton with the females recorded to predict nesting female population\n",
    "        also uses data to decypher returning females rate after 1yr, 2yrs, 3yrs... until stop\n",
    "final plot of number of nesting females"
   ]
  },
  {
   "cell_type": "code",
   "execution_count": 3,
   "metadata": {},
   "outputs": [],
   "source": [
    "# Configure Jupyter so figures appear in the notebook\n",
    "%matplotlib inline\n",
    "\n",
    "# Configure Jupyter to display the assigned value after an assignment\n",
    "%config InteractiveShell.ast_node_interactivity='last_expr_or_assign'\n",
    "\n",
    "# import functions from the modsim.py module\n",
    "from modsim import *\n",
    "\n",
    "from pandas import read_html"
   ]
  },
  {
   "cell_type": "code",
   "execution_count": null,
   "metadata": {},
   "outputs": [],
   "source": []
  }
 ],
 "metadata": {
  "kernelspec": {
   "display_name": "Python 3",
   "language": "python",
   "name": "python3"
  },
  "language_info": {
   "codemirror_mode": {
    "name": "ipython",
    "version": 3
   },
   "file_extension": ".py",
   "mimetype": "text/x-python",
   "name": "python",
   "nbconvert_exporter": "python",
   "pygments_lexer": "ipython3",
   "version": "3.6.6"
  }
 },
 "nbformat": 4,
 "nbformat_minor": 2
}
