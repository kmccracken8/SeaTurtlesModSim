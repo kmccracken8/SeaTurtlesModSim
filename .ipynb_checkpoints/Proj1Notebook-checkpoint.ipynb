{
 "cells": [
  {
   "cell_type": "markdown",
   "metadata": {},
   "source": [
    "# Modeling and Simulation in Python\n",
    "\n",
    "Project 1\n",
    "\n",
    "Leatherback Sea Turtles Nesting Mother Population\n",
    "\n",
    "Kyle McCracken and David Tarazi"
   ]
  },
  {
   "cell_type": "markdown",
   "metadata": {},
   "source": [
    "# Question to answer: \n",
    "### What will be the leatherback sea turtle population of nesting females on x beach based on data from St. Croix?"
   ]
  },
  {
   "cell_type": "markdown",
   "metadata": {},
   "source": [
    "Model:\n",
    "Parameters/Data\n",
    "* US Virgin Island Data:\n",
    "        Yearly nesting females, How many turtles returned after x years\n",
    "* Data we need to parameterize:\n",
    "        population proxy, proxy for probability of return after x years, rate of new turtles nesting"
   ]
  },
  {
   "cell_type": "code",
   "execution_count": 1,
   "metadata": {},
   "outputs": [],
   "source": [
    "# Configure Jupyter so figures appear in the notebook\n",
    "%matplotlib inline\n",
    "\n",
    "from modsim import *\n",
    "\n",
    "from pandas import *"
   ]
  },
  {
   "cell_type": "markdown",
   "metadata": {},
   "source": [
    "### Implementing System and State Objects and Reading our Data\n",
    "To create easy reference for probabilities and actual population values in certain years"
   ]
  },
  {
   "cell_type": "code",
   "execution_count": 3,
   "metadata": {},
   "outputs": [],
   "source": [
    "system = System(nestR = .002, #tuned rates for returning turtles after x years :)\n",
    "                rr1 = .01, \n",
    "                rr2 = .59, \n",
    "                rr3 = .28, \n",
    "                rr4 = .16, \n",
    "                rr5 = .047, \n",
    "                rr6 = .015)\n",
    "state = State(population = 2000, #estimated starting population; could be used to add birth/death rates in future\n",
    "              r1T = TimeSeries(), #Stores the number of turtles that return after x year in each year\n",
    "              r2T = TimeSeries(), \n",
    "              r3T = TimeSeries(), \n",
    "              r4T = TimeSeries(), \n",
    "              r5T = TimeSeries(), \n",
    "              r6T = TimeSeries(), \n",
    "              newN = TimeSeries()) #Stores the number of new nesters each year"
   ]
  },
  {
   "cell_type": "code",
   "execution_count": 4,
   "metadata": {},
   "outputs": [],
   "source": [
    "turtleDataframe = pandas.read_csv('data/Garner_LeatherbackRemigrationIntervalsData_StCroix.csv',index_col = 0, header = 0) #reads data\n",
    "nestingTurtleData = turtleDataframe['Turtles'] #creates dataframe\n",
    "\"\"\"\n",
    "parses dataframe and creates a list of values for number of returning turtles after x years \n",
    "every year that corresponds to the year in which that data was collected\n",
    "\"\"\"\n",
    "ri1 = turtleDataframe['RI1']\n",
    "ri2 = turtleDataframe['RI2']\n",
    "ri3 = turtleDataframe['RI3']\n",
    "ri4 = turtleDataframe['RI4']\n",
    "ri5 = turtleDataframe['RI5'] \n",
    "ri6 = turtleDataframe['RI6up'] #any turtles returning from 6+ years ago\n",
    "new = turtleDataframe['Unknown'] #new nesters"
   ]
  },
  {
   "cell_type": "code",
   "execution_count": null,
   "metadata": {},
   "outputs": [],
   "source": []
  },
  {
   "cell_type": "code",
   "execution_count": null,
   "metadata": {},
   "outputs": [],
   "source": []
  }
 ],
 "metadata": {
  "kernelspec": {
   "display_name": "Python 3",
   "language": "python",
   "name": "python3"
  },
  "language_info": {
   "codemirror_mode": {
    "name": "ipython",
    "version": 3
   },
   "file_extension": ".py",
   "mimetype": "text/x-python",
   "name": "python",
   "nbconvert_exporter": "python",
   "pygments_lexer": "ipython3",
   "version": "3.6.6"
  }
 },
 "nbformat": 4,
 "nbformat_minor": 2
}
